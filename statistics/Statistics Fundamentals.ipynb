{
 "cells": [
  {
   "cell_type": "markdown",
   "id": "d41e530d-77c3-453c-9248-323f0af53e85",
   "metadata": {},
   "source": [
    "# Statistics Fundamentals \n"
   ]
  },
  {
   "cell_type": "markdown",
   "id": "35236527-64fd-4a53-bbf5-069caaa562f2",
   "metadata": {},
   "source": [
    "### References\n",
    "- Stats with Josh Starmer\n",
    "- Douglas C Montgomery and Runger G C"
   ]
  },
  {
   "cell_type": "markdown",
   "id": "fee03739-01a8-4af7-baef-b9982836bf5e",
   "metadata": {},
   "source": [
    "# Distributions"
   ]
  },
  {
   "cell_type": "markdown",
   "id": "75dc6fc8-4cef-40e6-813d-8163eab8f832",
   "metadata": {},
   "source": [
    "#### Normal Distributions"
   ]
  },
  {
   "cell_type": "code",
   "execution_count": 3,
   "id": "2cbdd626-00f3-4344-9da1-927a57690a47",
   "metadata": {},
   "outputs": [],
   "source": [
    "import scipy"
   ]
  },
  {
   "metadata": {},
   "cell_type": "code",
   "outputs": [],
   "execution_count": null,
   "source": "",
   "id": "79537369c96910a6"
  }
 ],
 "metadata": {
  "kernelspec": {
   "display_name": "torch",
   "language": "python",
   "name": "torch"
  },
  "language_info": {
   "codemirror_mode": {
    "name": "ipython",
    "version": 3
   },
   "file_extension": ".py",
   "mimetype": "text/x-python",
   "name": "python",
   "nbconvert_exporter": "python",
   "pygments_lexer": "ipython3",
   "version": "3.12.4"
  }
 },
 "nbformat": 4,
 "nbformat_minor": 5
}
