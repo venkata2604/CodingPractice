{
 "cells": [
  {
   "cell_type": "code",
   "execution_count": 1,
   "metadata": {},
   "outputs": [],
   "source": [
    "import pandas as pd\n",
    "import numpy as np\n",
    "import matplotlib as mpl\n",
    "import matplotlib.pyplot as plt"
   ]
  },
  {
   "cell_type": "code",
   "execution_count": 2,
   "metadata": {},
   "outputs": [],
   "source": [
    "from scipy.io import loadmat"
   ]
  },
  {
   "cell_type": "code",
   "execution_count": 3,
   "metadata": {},
   "outputs": [
    {
     "data": {
      "text/plain": [
       "dict_keys(['__header__', '__version__', '__globals__', 'X', 'y', 'Xtest', 'ytest', 'Xval', 'yval'])"
      ]
     },
     "execution_count": 3,
     "metadata": {},
     "output_type": "execute_result"
    }
   ],
   "source": [
    "data = loadmat('ex5data1.mat')\n",
    "data.keys()"
   ]
  },
  {
   "cell_type": "code",
   "execution_count": 4,
   "metadata": {},
   "outputs": [
    {
     "name": "stdout",
     "output_type": "stream",
     "text": [
      "X_train: (12, 2)\n",
      "y_train: (12, 1)\n",
      "Xval: (21, 2)\n",
      "yval: (21, 1)\n"
     ]
    }
   ],
   "source": [
    "y_train = np.c_[data['y']]\n",
    "X_train = np.c_[np.ones_like(data['X']), data['X']]\n",
    "\n",
    "yval = np.c_[data['yval']]\n",
    "Xval = np.c_[np.ones_like(data['Xval']), data['Xval']]\n",
    "\n",
    "\n",
    "print('X_train:', X_train.shape)\n",
    "print('y_train:', y_train.shape)\n",
    "print('Xval:', Xval.shape)\n",
    "print('yval:', yval.shape)"
   ]
  },
  {
   "cell_type": "code",
   "execution_count": 5,
   "metadata": {},
   "outputs": [
    {
     "data": {
      "text/plain": [
       "array([[ 2.13431051],\n",
       "       [ 1.17325668],\n",
       "       [34.35910918],\n",
       "       [36.83795516],\n",
       "       [ 2.80896507],\n",
       "       [ 2.12107248],\n",
       "       [14.71026831],\n",
       "       [ 2.61418439],\n",
       "       [ 3.74017167],\n",
       "       [ 3.73169131],\n",
       "       [ 7.62765885],\n",
       "       [22.7524283 ]])"
      ]
     },
     "execution_count": 5,
     "metadata": {},
     "output_type": "execute_result"
    }
   ],
   "source": [
    "y_train"
   ]
  },
  {
   "cell_type": "code",
   "execution_count": 6,
   "metadata": {},
   "outputs": [
    {
     "data": {
      "text/plain": [
       "array([[  1.        , -15.93675813],\n",
       "       [  1.        , -29.15297922],\n",
       "       [  1.        ,  36.18954863],\n",
       "       [  1.        ,  37.49218733],\n",
       "       [  1.        , -48.05882945],\n",
       "       [  1.        ,  -8.94145794],\n",
       "       [  1.        ,  15.30779289],\n",
       "       [  1.        , -34.70626581],\n",
       "       [  1.        ,   1.38915437],\n",
       "       [  1.        , -44.38375985],\n",
       "       [  1.        ,   7.01350208],\n",
       "       [  1.        ,  22.76274892]])"
      ]
     },
     "execution_count": 6,
     "metadata": {},
     "output_type": "execute_result"
    }
   ],
   "source": [
    "X_train"
   ]
  },
  {
   "cell_type": "code",
   "execution_count": 7,
   "metadata": {},
   "outputs": [
    {
     "data": {
      "text/plain": [
       "array([[  1.        , -16.74653578],\n",
       "       [  1.        , -14.57747075],\n",
       "       [  1.        ,  34.51575866],\n",
       "       [  1.        , -47.01007574],\n",
       "       [  1.        ,  36.97511905],\n",
       "       [  1.        , -40.68611002],\n",
       "       [  1.        ,  -4.47201098],\n",
       "       [  1.        ,  26.53363489],\n",
       "       [  1.        , -42.7976831 ],\n",
       "       [  1.        ,  25.37409938],\n",
       "       [  1.        , -31.10955398],\n",
       "       [  1.        ,  27.31176864],\n",
       "       [  1.        ,  -3.26386201],\n",
       "       [  1.        ,  -1.81827649],\n",
       "       [  1.        , -40.7196624 ],\n",
       "       [  1.        , -50.01324365],\n",
       "       [  1.        , -17.41177155],\n",
       "       [  1.        ,   3.5881937 ],\n",
       "       [  1.        ,   7.08548026],\n",
       "       [  1.        ,  46.28236902],\n",
       "       [  1.        ,  14.61228909]])"
      ]
     },
     "execution_count": 7,
     "metadata": {},
     "output_type": "execute_result"
    }
   ],
   "source": [
    "Xval"
   ]
  },
  {
   "cell_type": "code",
   "execution_count": 8,
   "metadata": {},
   "outputs": [
    {
     "data": {
      "text/plain": [
       "array([[ 4.17020201e+00],\n",
       "       [ 4.06726280e+00],\n",
       "       [ 3.18730676e+01],\n",
       "       [ 1.06236562e+01],\n",
       "       [ 3.18360213e+01],\n",
       "       [ 4.95936972e+00],\n",
       "       [ 4.45159880e+00],\n",
       "       [ 2.22763185e+01],\n",
       "       [-4.38738274e-05],\n",
       "       [ 2.05038016e+01],\n",
       "       [ 3.85834476e+00],\n",
       "       [ 1.93650529e+01],\n",
       "       [ 4.88376281e+00],\n",
       "       [ 1.10971588e+01],\n",
       "       [ 7.46170827e+00],\n",
       "       [ 1.47693464e+00],\n",
       "       [ 2.71916388e+00],\n",
       "       [ 1.09269007e+01],\n",
       "       [ 8.34871235e+00],\n",
       "       [ 5.27819280e+01],\n",
       "       [ 1.33573396e+01]])"
      ]
     },
     "execution_count": 8,
     "metadata": {},
     "output_type": "execute_result"
    }
   ],
   "source": [
    "yval"
   ]
  },
  {
   "cell_type": "code",
   "execution_count": 9,
   "metadata": {},
   "outputs": [
    {
     "data": {
      "image/png": "[encoded data removed]",
      "text/plain": [
       "<Figure size 432x288 with 1 Axes>"
      ]
     },
     "metadata": {
      "needs_background": "light"
     },
     "output_type": "display_data"
    }
   ],
   "source": [
    "plt.scatter(X_train[:,1], y_train, s=50, c='r', marker='x', linewidths=1)\n",
    "plt.xlabel('Change in water level (x)')\n",
    "plt.ylabel('Water flowing out of the dam (y)')\n",
    "plt.ylim(ymin=0);"
   ]
  },
  {
   "cell_type": "code",
   "execution_count": 10,
   "metadata": {
    "scrolled": true
   },
   "outputs": [
    {
     "data": {
      "text/plain": [
       "-5.085426348834809"
      ]
     },
     "execution_count": 10,
     "metadata": {},
     "output_type": "execute_result"
    }
   ],
   "source": [
    "mean_ciw = sum((X_train[:,1]))/(len(X_train[:,1]))\n",
    "mean_ciw"
   ]
  },
  {
   "cell_type": "code",
   "execution_count": 11,
   "metadata": {},
   "outputs": [
    {
     "data": {
      "text/plain": [
       "11.217589325366376"
      ]
     },
     "execution_count": 11,
     "metadata": {},
     "output_type": "execute_result"
    }
   ],
   "source": [
    "mean_wfo = float(sum(y_train[:])/float((len(y_train[:]))))\n",
    "mean_wfo"
   ]
  },
  {
   "cell_type": "code",
   "execution_count": 12,
   "metadata": {},
   "outputs": [],
   "source": [
    "# calculating variance\n",
    "\n",
    "def variance(values, mean):\n",
    "    variance = 0\n",
    "    for val in values:\n",
    "        variance = float(variance + ((val-mean)**2))\n",
    "    return variance"
   ]
  },
  {
   "cell_type": "code",
   "execution_count": 13,
   "metadata": {},
   "outputs": [],
   "source": [
    "# A simple way to write the above def for variance\n",
    "# def variance(values, mean):\n",
    "#     return sum([(val-mean)**2 for val in values])\n",
    "# variance(X_train[:,1], mean_ciw)"
   ]
  },
  {
   "cell_type": "code",
   "execution_count": 14,
   "metadata": {},
   "outputs": [
    {
     "data": {
      "text/plain": [
       "9876.519270389965"
      ]
     },
     "execution_count": 14,
     "metadata": {},
     "output_type": "execute_result"
    }
   ],
   "source": [
    "variance_ciw = variance(X_train[:,1], mean_ciw)\n",
    "variance_ciw"
   ]
  },
  {
   "cell_type": "code",
   "execution_count": 15,
   "metadata": {},
   "outputs": [
    {
     "data": {
      "text/plain": [
       "1872.8871778624105"
      ]
     },
     "execution_count": 15,
     "metadata": {},
     "output_type": "execute_result"
    }
   ],
   "source": [
    "variance_wfo = variance(y_train, mean_wfo)\n",
    "variance_wfo"
   ]
  },
  {
   "cell_type": "code",
   "execution_count": 41,
   "metadata": {},
   "outputs": [],
   "source": [
    "# calculating covariance \n",
    "\n",
    "def covariance(inparm, output, mean_input, mean_output):\n",
    "    covariance = 0\n",
    "    for i in range(len(output)):\n",
    "        covariance = (covariance + ((inparm[i] - mean_input)*(output[i] - mean_output)))\n",
    "    return covariance"
   ]
  },
  {
   "cell_type": "code",
   "execution_count": 43,
   "metadata": {},
   "outputs": [
    {
     "data": {
      "text/plain": [
       "3632.3786498320987"
      ]
     },
     "execution_count": 43,
     "metadata": {},
     "output_type": "execute_result"
    }
   ],
   "source": [
    "covariance_final = float(covariance(X_train[:,1], y_train[:], mean_ciw, mean_wfo))\n",
    "covariance_final"
   ]
  },
  {
   "cell_type": "code",
   "execution_count": 44,
   "metadata": {},
   "outputs": [
    {
     "data": {
      "text/plain": [
       "(0.36777922974565086, 13.08790351086908)"
      ]
     },
     "execution_count": 44,
     "metadata": {},
     "output_type": "execute_result"
    }
   ],
   "source": [
    "# Linear Fitting of parameters \n",
    "# guiding equation Y = mX+c\n",
    "# slope(m), constant(c)\n",
    "m = covariance_final/variance_ciw\n",
    "c = mean_wfo - (m*mean_ciw)\n",
    "m,c"
   ]
  },
  {
   "cell_type": "code",
   "execution_count": 45,
   "metadata": {},
   "outputs": [
    {
     "name": "stdout",
     "output_type": "stream",
     "text": [
      "enter the change in reservoir levels-15.9367\n",
      "the predicted water flowing out from model = 7.226716260181565\n"
     ]
    }
   ],
   "source": [
    "# prediction\n",
    "wfo = (m*float(input(\"enter the change in reservoir levels\"))+c)\n",
    "print('the predicted water flowing out from model =', wfo)"
   ]
  }
 ],
 "metadata": {
  "kernelspec": {
   "display_name": "Python 3.8 (tensorflow)",
   "language": "python",
   "name": "tensorflow"
  },
  "language_info": {
   "codemirror_mode": {
    "name": "ipython",
    "version": 3
   },
   "file_extension": ".py",
   "mimetype": "text/x-python",
   "name": "python",
   "nbconvert_exporter": "python",
   "pygments_lexer": "ipython3",
   "version": "3.7.9"
  }
 },
 "nbformat": 4,
 "nbformat_minor": 4
}
