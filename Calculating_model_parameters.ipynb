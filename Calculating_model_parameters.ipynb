{
 "cells": [
  {
   "cell_type": "code",
   "execution_count": 1,
   "id": "3b147456-1c16-47da-812d-5e7a14852478",
   "metadata": {},
   "outputs": [],
   "source": [
    "import tensorflow as tf\n",
    "from tensorflow import keras\n",
    "from tensorflow.keras.optimizers import RMSprop"
   ]
  },
  {
   "cell_type": "code",
   "execution_count": 14,
   "id": "b2d73b28-2b2d-4aa1-90fe-f6c5044f07c6",
   "metadata": {},
   "outputs": [
    {
     "name": "stdout",
     "output_type": "stream",
     "text": [
      "Model: \"sequential_5\"\n",
      "_________________________________________________________________\n",
      "Layer (type)                 Output Shape              Param #   \n",
      "=================================================================\n",
      "conv2d_7 (Conv2D)            (None, 148, 148, 16)      448       \n",
      "_________________________________________________________________\n",
      "max_pooling2d_6 (MaxPooling2 (None, 74, 74, 16)        0         \n",
      "_________________________________________________________________\n",
      "flatten_3 (Flatten)          (None, 87616)             0         \n",
      "_________________________________________________________________\n",
      "dense_8 (Dense)              (None, 512)               44859904  \n",
      "_________________________________________________________________\n",
      "dense_9 (Dense)              (None, 1)                 513       \n",
      "=================================================================\n",
      "Total params: 44,860,865\n",
      "Trainable params: 44,860,865\n",
      "Non-trainable params: 0\n",
      "_________________________________________________________________\n"
     ]
    }
   ],
   "source": [
    "model1 = tf.keras.Sequential([keras.layers.Conv2D(16, (3,3), activation='relu', input_shape=(150, 150, 3)), \n",
    "                              keras.layers.MaxPool2D(2,2), \n",
    "                              keras.layers.Flatten(), \n",
    "                              keras.layers.Dense(512, activation='relu'), \n",
    "                              keras.layers.Dense(1, activation='sigmoid')])\n",
    "model1.compile(optimizer = RMSprop(learning_rate=0.001), loss='binary_crossentropy', metrics=['accuracy'])\n",
    "model1.summary()"
   ]
  },
  {
   "cell_type": "markdown",
   "id": "2c122826-d0cc-48a4-8a63-34a1a061afd8",
   "metadata": {},
   "source": [
    "# Calculate the number of trainable parameters"
   ]
  },
  {
   "attachments": {
    "958a566b-d643-4f47-a553-566fcb1b71e8.png": {
     "image/png": "[encoded data removed]"
    }
   },
   "cell_type": "markdown",
   "id": "c00d3a65-144d-45bf-b52b-56e681d7a1da",
   "metadata": {},
   "source": [
    "Here the model starts with a CNN having 16 filters and a kernel size of (3,3). \n",
    "<br>With an input size of (150, 150, 3) the convolution output will be : (148, 148 , 16) \n",
    "<br> here the 16 is because of the number of filters used . \n",
    "<br> the (148, 148) is obtained from the below formula\n",
    "<br>\n",
    "![image.png](attachment:958a566b-d643-4f47-a553-566fcb1b71e8.png)"
   ]
  },
  {
   "cell_type": "markdown",
   "id": "4986a90b-8d1c-4a4e-9a54-691c2662dbd6",
   "metadata": {},
   "source": [
    "substituting the values, input = 150, kernel size = 3, padding = 0 and stride by default is 1\n",
    "<br> ((150-3)/1)+1 = 148 "
   ]
  },
  {
   "cell_type": "markdown",
   "id": "ab861706-b0a6-4395-9756-ac5edded3e25",
   "metadata": {},
   "source": [
    "Convolutions on an image of uneven size"
   ]
  }
 ],
 "metadata": {
  "kernelspec": {
   "display_name": "tf-gpu(2.1.0)",
   "language": "python",
   "name": "tf-gpu"
  },
  "language_info": {
   "codemirror_mode": {
    "name": "ipython",
    "version": 3
   },
   "file_extension": ".py",
   "mimetype": "text/x-python",
   "name": "python",
   "nbconvert_exporter": "python",
   "pygments_lexer": "ipython3",
   "version": "3.7.9"
  }
 },
 "nbformat": 4,
 "nbformat_minor": 5
}
