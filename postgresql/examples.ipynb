{
 "cells": [
  {
   "cell_type": "code",
   "execution_count": 3,
   "id": "7dbe7534-2997-4e01-888e-069ce9b7835f",
   "metadata": {},
   "outputs": [
    {
     "name": "stdout",
     "output_type": "stream",
     "text": [
      "connecting...\n",
      "connection successful\n",
      "closing connection...\n",
      "PostgreSQL connection closed\n"
     ]
    }
   ],
   "source": [
    "# Connecting to a db\n",
    "import psycopg2\n",
    "\n",
    "try:\n",
    "    connection = psycopg2.connect(user='postgres',\n",
    "                                  password='1234',\n",
    "                                  host='127.0.0.1',\n",
    "                                  port='5432',\n",
    "                                  database='voxelgrids')\n",
    "    print(\"connecting...\")\n",
    "    cursor = connection.cursor()\n",
    "    \n",
    "    print(\"connection successful\")\n",
    "    \n",
    "#     sql_select_query = \"\"\" SELECT * FROM table1\"\"\"\n",
    "#     # postgres_insert_query = \"\"\" INSERT INTO table1(PatientID, filepath) VALUES (%s, %s, %s)\"\"\"\n",
    "#     # record_to_insert = ('1', '/mnt/d/')\n",
    "#     cursor.execute(sql_select_query, record_to_insert)\n",
    "#     record = cursor.fetchone()\n",
    "#     print(record)\n",
    "    \n",
    "#     connection.commit()\n",
    "#     count = cursor.rowcount\n",
    "#     print(count, \"record inserted successfully into table1\")\n",
    "    \n",
    "# except(Exception, psycopg2.Error) as error:\n",
    "#     print(\"Failed to insert record into mobile table\", error)\n",
    "    \n",
    "finally:\n",
    "    # closing the database connection\n",
    "    if connection:\n",
    "        print(\"closing connection...\")\n",
    "        cursor.close()\n",
    "        connection.close()\n",
    "        print(\"PostgreSQL connection closed\")\n",
    "        "
   ]
  },
  {
   "cell_type": "code",
   "execution_count": 1,
   "id": "0e4afe2a-d77d-4908-b726-682666a1bfd3",
   "metadata": {},
   "outputs": [
    {
     "name": "stdout",
     "output_type": "stream",
     "text": [
      "1 Record inserted successfully into mobile table\n",
      "PostgreSQL connection is closed\n"
     ]
    }
   ],
   "source": [
    "import psycopg2\n",
    "\n",
    "def bulkInsert(records):\n",
    "    try:\n",
    "        connection = psycopg2.connect(user='test1',\n",
    "                                  password='test1',\n",
    "                                  host='127.0.0.1',\n",
    "                                  port='5432',\n",
    "                                  database='voxelgrid')\n",
    "        cursor = connection.cursor()\n",
    "        sql_insert_query = \"\"\" INSERT INTO dicom(patientid, filepath) \n",
    "                           VALUES (%s,%s) \"\"\"\n",
    "\n",
    "        # executemany() to insert multiple rows\n",
    "        result = cursor.executemany(sql_insert_query, (records,))\n",
    "        connection.commit()\n",
    "        print(cursor.rowcount, \"Record inserted successfully into mobile table\")\n",
    "\n",
    "    except (Exception, psycopg2.Error) as error:\n",
    "        print(\"Failed inserting record into table1 table {}\".format(error))\n",
    "\n",
    "    finally:\n",
    "        # closing database connection.\n",
    "        if connection:\n",
    "            cursor.close()\n",
    "            connection.close()\n",
    "            print(\"PostgreSQL connection is closed\")\n",
    "\n",
    "records_to_insert = ('1', '2')\n",
    "bulkInsert(records_to_insert)\n",
    "\n"
   ]
  }
 ],
 "metadata": {
  "kernelspec": {
   "display_name": "pydicom",
   "language": "python",
   "name": "pydicom"
  },
  "language_info": {
   "codemirror_mode": {
    "name": "ipython",
    "version": 3
   },
   "file_extension": ".py",
   "mimetype": "text/x-python",
   "name": "python",
   "nbconvert_exporter": "python",
   "pygments_lexer": "ipython3",
   "version": "3.10.0"
  }
 },
 "nbformat": 4,
 "nbformat_minor": 5
}
