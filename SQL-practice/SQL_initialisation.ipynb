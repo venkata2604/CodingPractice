{
 "cells": [
  {
   "cell_type": "code",
   "execution_count": 39,
   "id": "113bb212-2acb-4d44-b4ee-45b59040d30b",
   "metadata": {},
   "outputs": [
    {
     "name": "stdout",
     "output_type": "stream",
     "text": [
      "<mysql.connector.connection_cext.CMySQLConnection object at 0x7f1480299ee0>\n",
      "('dump',)\n",
      "('imdb',)\n",
      "('information_schema',)\n",
      "('mysql',)\n",
      "('new_imdb',)\n",
      "('performance_schema',)\n",
      "('sys',)\n"
     ]
    }
   ],
   "source": [
    "# Create SQL connection\n",
    "import mysql.connector as sql\n",
    "\n",
    "logs  = {\n",
    "    'host':\"localhost\", \n",
    "    'user':\"test1\",\n",
    "    'password':\"password123\",\n",
    "    'database':'imdb',\n",
    "}\n",
    "mydb = sql.connect(**logs)\n",
    "print(mydb)\n",
    "\n",
    "mycursor = mydb.cursor()\n",
    "\n",
    "# checking the available databases\n",
    "mycursor.execute(\"SHOW DATABASES\")\n",
    "for x in mycursor:\n",
    "    print(x)\n",
    "    \n"
   ]
  },
  {
   "cell_type": "markdown",
   "id": "7db95d12-2356-4f21-89fc-f0bae8c52ee6",
   "metadata": {},
   "source": [
    "## Creating Databases"
   ]
  },
  {
   "cell_type": "code",
   "execution_count": 27,
   "id": "1c6c8e35-35f2-4f94-b539-d218643900a6",
   "metadata": {},
   "outputs": [],
   "source": [
    "# mycursor = mydb.cursor()\n",
    "# mycursor.execute(\"CREATE DATABASE dump\")"
   ]
  },
  {
   "cell_type": "code",
   "execution_count": 40,
   "id": "9c9b22ab-e796-4931-b2a6-ab2979c2b757",
   "metadata": {},
   "outputs": [
    {
     "name": "stdout",
     "output_type": "stream",
     "text": [
      "('actors',)\n",
      "('directors',)\n",
      "('directors_genres',)\n",
      "('movies',)\n",
      "('movies_directors',)\n",
      "('movies_genres',)\n",
      "('roles',)\n"
     ]
    }
   ],
   "source": [
    "# showing tables in a databse\n",
    "mycursor.execute(\"SHOW TABLES;\")\n",
    "myresult = mycursor.fetchall()\n",
    "for x in myresult:\n",
    "    print(x)"
   ]
  },
  {
   "cell_type": "code",
   "execution_count": 46,
   "id": "9b524547-5299-4845-a272-f053121cd6a7",
   "metadata": {},
   "outputs": [
    {
     "name": "stdout",
     "output_type": "stream",
     "text": [
      "('#28', 2002)\n",
      "('#7 Train: An Immigrant Journey, The', 2000)\n",
      "('$', 1971)\n",
      "('$1,000 Reward', 1913)\n",
      "('$1,000 Reward', 1915)\n",
      "('$1,000 Reward', 1923)\n",
      "('$1,000,000 Duck', 1971)\n",
      "('$1,000,000 Reward, The', 1920)\n",
      "('$10,000 Under a Pillow', 1921)\n",
      "('$100,000', 1915)\n",
      "('$100,000 Pyramid, The', 2001)\n",
      "('$1000 a Touchdown', 1939)\n",
      "('$20,000 Carat, The', 1913)\n",
      "('$21 a Day Once a Month', 1941)\n",
      "('$2500 Bride, The', 1912)\n",
      "('$30', 1999)\n",
      "('$30,000', 1920)\n",
      "('$300 y tickets', 2002)\n",
      "('$40,000', 1996)\n",
      "('$5,000 Reward', 1918)\n"
     ]
    }
   ],
   "source": [
    "mycursor.execute(\"SELECT name,year FROM movies LIMIT 20;\")\n",
    "myresult = mycursor.fetchall()\n",
    "for x in myresult:\n",
    "    print(x)"
   ]
  },
  {
   "cell_type": "code",
   "execution_count": 47,
   "id": "7bb86d82-9952-41da-8cf9-06176eef116b",
   "metadata": {},
   "outputs": [
    {
     "name": "stdout",
     "output_type": "stream",
     "text": [
      "('$5,000,000 Counterfeiting Plot, The', 1914)\n",
      "('$5.15/Hr.', 2004)\n",
      "('$5.20 an Hour Dream, The', 1980)\n",
      "('$50,000 Challenge, The', 1989)\n",
      "('$50,000 Climax Show, The', 1975)\n",
      "('$50,000 Jewel Theft, The', 1915)\n",
      "('$50,000 Reward', 1924)\n",
      "('$500 Reward, The', 1911)\n",
      "('$500,000 Reward', 1911)\n",
      "('$pent', 2000)\n",
      "('$ucces Part One', 1986)\n",
      "('$windle', 2002)\n",
      "('& frres', 2000)\n",
      "(\"''Bear'' Facts, The\", 1914)\n",
      "(\"'15'\", 2002)\n",
      "(\"'24-25' ne vozvrashchayetsya\", 1968)\n",
      "(\"'38\", 1987)\n",
      "(\"'42\", 1951)\n",
      "(\"'49, un souffle de colre\", 1996)\n",
      "(\"'49-'17\", 1917)\n"
     ]
    }
   ],
   "source": [
    "mycursor.execute(\"SELECT name,year FROM movies LIMIT 20 OFFSET 20;\")\n",
    "myresult = mycursor.fetchall()\n",
    "for x in myresult:\n",
    "    print(x)"
   ]
  },
  {
   "cell_type": "code",
   "execution_count": null,
   "id": "484a5fe3-37bd-4169-b450-f36ffcd55088",
   "metadata": {},
   "outputs": [],
   "source": []
  },
  {
   "cell_type": "markdown",
   "id": "e6c67ed2-5b8b-4ce9-b7cb-191eb49aac9d",
   "metadata": {},
   "source": [
    "## Connecting to an existing Database"
   ]
  },
  {
   "cell_type": "code",
   "execution_count": 49,
   "id": "93cf55d6-3647-4c74-9568-cd96f99d22c7",
   "metadata": {},
   "outputs": [],
   "source": [
    "cnx = sql.connect(user='test1', database='imdb', password='password123')\n",
    "cursor = cnx.cursor()\n",
    "query = (\"SHOW TABLES\")\n",
    "cursor.execute(query)"
   ]
  },
  {
   "cell_type": "code",
   "execution_count": 51,
   "id": "95a7c29a-f089-4c55-ae56-82f099193fbf",
   "metadata": {},
   "outputs": [
    {
     "name": "stdout",
     "output_type": "stream",
     "text": [
      "('directors',)\n",
      "('directors_genres',)\n",
      "('movies',)\n",
      "('movies_directors',)\n",
      "('movies_genres',)\n",
      "('roles',)\n"
     ]
    }
   ],
   "source": [
    "for i in cursor:\n",
    "    print(i)"
   ]
  },
  {
   "cell_type": "code",
   "execution_count": 50,
   "id": "3ee9c87b-2f8c-4685-8e7b-cc96158492ad",
   "metadata": {},
   "outputs": [
    {
     "name": "stdout",
     "output_type": "stream",
     "text": [
      "('Dawn of the Friend', 9.9, 2004)\n",
      "('Prince Solitaire', 9.9, 2003)\n",
      "('Whirlpool, The', 9.9, 2003)\n",
      "('Blow Job', 9.9, 2002)\n",
      "('Clearing, The', 9.9, 2001)\n",
      "('Zenith', 9.9, 2001)\n",
      "('Wrestling with Shadows', 9.9, 2000)\n",
      "('New Clear Farm', 9.9, 1998)\n",
      "('Together & Alone', 9.9, 1998)\n",
      "('Scarmour', 9.9, 1997)\n",
      "('Schalkse ruiters', 9.9, 1997)\n",
      "('Huttyn', 9.9, 1996)\n",
      "('Sargam', 9.9, 1995)\n",
      "('Complex Sessions, The', 9.9, 1994)\n",
      "('Ivan Groznyj III', 9.9, 1988)\n",
      "('Young and Restless 2', 9.9, 1985)\n",
      "('Himala', 9.9, 1982)\n",
      "('New World, The', 9.9, 1982)\n",
      "('Slyozy kapali', 9.9, 1982)\n",
      "('You Are Not I', 9.9, 1981)\n"
     ]
    }
   ],
   "source": [
    "# Order by\n",
    "mycursor.execute(\"SELECT name,rankscore,year FROM movies ORDER BY rankscore DESC, year DESC, name ASC LIMIT 20;\")\n",
    "myresult = mycursor.fetchall()\n",
    "for x in myresult:\n",
    "    print(x)"
   ]
  },
  {
   "cell_type": "code",
   "execution_count": 51,
   "id": "6db5125f-88bc-462d-a959-6c48c2b7d58a",
   "metadata": {},
   "outputs": [
    {
     "name": "stdout",
     "output_type": "stream",
     "text": [
      "(2002,)\n",
      "(2000,)\n",
      "(1971,)\n",
      "(1913,)\n",
      "(1915,)\n",
      "(1923,)\n",
      "(1920,)\n",
      "(1921,)\n",
      "(2001,)\n",
      "(1939,)\n",
      "(1941,)\n",
      "(1912,)\n",
      "(1999,)\n",
      "(1996,)\n",
      "(1918,)\n",
      "(1914,)\n",
      "(2004,)\n",
      "(1980,)\n",
      "(1989,)\n",
      "(1975,)\n"
     ]
    }
   ],
   "source": [
    "# Distinct\n",
    "mycursor.execute(\"SELECT DISTINCT year FROM movies LIMIT 20;\")\n",
    "myresult = mycursor.fetchall()\n",
    "for x in myresult:\n",
    "    print(x)"
   ]
  },
  {
   "cell_type": "code",
   "execution_count": 54,
   "id": "32e593d6-4071-4ece-aaa5-009a353acfdf",
   "metadata": {},
   "outputs": [
    {
     "name": "stdout",
     "output_type": "stream",
     "text": [
      "('Documentary',)\n",
      "('Short',)\n",
      "('Comedy',)\n",
      "('Crime',)\n",
      "('Western',)\n",
      "('Family',)\n",
      "('Animation',)\n",
      "('Drama',)\n",
      "('Romance',)\n",
      "('Mystery',)\n",
      "('Thriller',)\n",
      "('Adult',)\n",
      "('Music',)\n",
      "('Action',)\n",
      "('Fantasy',)\n",
      "('Sci-Fi',)\n",
      "('Horror',)\n",
      "('War',)\n",
      "('Musical',)\n",
      "('Adventure',)\n",
      "('Film-Noir',)\n"
     ]
    }
   ],
   "source": [
    "mycursor.execute(\"SELECT DISTINCT genre FROM movies_genres;\")\n",
    "myresult = mycursor.fetchall()\n",
    "for x in myresult:\n",
    "    print(x)"
   ]
  },
  {
   "cell_type": "code",
   "execution_count": 55,
   "id": "fc87974f-880f-4ee5-84a9-4e496b3d1625",
   "metadata": {},
   "outputs": [
    {
     "name": "stdout",
     "output_type": "stream",
     "text": [
      "(\"'Chico'\",)\n",
      "(\"'Philthy' Phil\",)\n",
      "(\"'Weird Al'\",)\n",
      "('A.',)\n",
      "('A. (I)',)\n",
      "('A. (II)',)\n",
      "('A. Blaine',)\n",
      "('A. Charles',)\n",
      "('A. Dean',)\n",
      "('A. Edward',)\n",
      "('A. Hans',)\n",
      "('A. John',)\n",
      "('A. Jonathan',)\n",
      "('A. Karides',)\n",
      "('A. Karim',)\n",
      "('A. Kondandarami',)\n",
      "('A. Mark',)\n",
      "('A. Paige',)\n",
      "('A. Raven',)\n",
      "('A. Razak',)\n"
     ]
    }
   ],
   "source": [
    "mycursor.execute(\"SELECT DISTINCT first_name FROM directors LIMIT 20;\")\n",
    "myresult = mycursor.fetchall()\n",
    "for x in myresult:\n",
    "    print(x)"
   ]
  },
  {
   "cell_type": "code",
   "execution_count": null,
   "id": "c18403f0-5166-4e8a-a988-6939da2d3fae",
   "metadata": {},
   "outputs": [],
   "source": [
    "# where \n",
    "mycursor.execute(\"SELECT name, year, rankscore FROM movies where rankscore>9 LIMIT 20;\")\n",
    "myresult = mycursor.fetchall()\n",
    "for x in myresult:\n",
    "    print(x)"
   ]
  },
  {
   "cell_type": "code",
   "execution_count": 52,
   "id": "73f965b9-1469-475f-8452-705d329755f4",
   "metadata": {},
   "outputs": [],
   "source": [
    "mycursor.close()\n",
    "mydb.close()"
   ]
  }
 ],
 "metadata": {
  "kernelspec": {
   "display_name": "pydicom",
   "language": "python",
   "name": "pydicom"
  },
  "language_info": {
   "codemirror_mode": {
    "name": "ipython",
    "version": 3
   },
   "file_extension": ".py",
   "mimetype": "text/x-python",
   "name": "python",
   "nbconvert_exporter": "python",
   "pygments_lexer": "ipython3",
   "version": "3.10.0"
  }
 },
 "nbformat": 4,
 "nbformat_minor": 5
}
