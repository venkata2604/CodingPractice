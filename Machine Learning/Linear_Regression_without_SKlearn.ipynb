{
 "cells": [
  {
   "cell_type": "code",
   "execution_count": 1,
   "metadata": {},
   "outputs": [],
   "source": [
    "import pandas as pd\n",
    "import numpy as np\n",
    "import matplotlib as mpl\n",
    "import matplotlib.pyplot as plt\n",
    "\n",
    "from sklearn.linear_model import LinearRegression, Ridge\n",
    "from sklearn.preprocessing import PolynomialFeatures\n"
   ]
  },
  {
   "cell_type": "code",
   "execution_count": 2,
   "metadata": {},
   "outputs": [],
   "source": [
    "from scipy.io import loadmat"
   ]
  },
  {
   "cell_type": "code",
   "execution_count": 3,
   "metadata": {},
   "outputs": [
    {
     "data": {
      "text/plain": [
       "dict_keys(['__header__', '__version__', '__globals__', 'X', 'y', 'Xtest', 'ytest', 'Xval', 'yval'])"
      ]
     },
     "execution_count": 3,
     "metadata": {},
     "output_type": "execute_result"
    }
   ],
   "source": [
    "data = loadmat('ex5data1.mat')\n",
    "data.keys()"
   ]
  },
  {
   "cell_type": "code",
   "execution_count": 4,
   "metadata": {},
   "outputs": [
    {
     "name": "stdout",
     "output_type": "stream",
     "text": [
      "X_train: (12, 2)\n",
      "y_train: (12, 1)\n",
      "Xval: (21, 2)\n",
      "yval: (21, 1)\n"
     ]
    }
   ],
   "source": [
    "y_train = np.c_[data['y']]\n",
    "X_train = np.c_[np.ones_like(data['X']), data['X']]\n",
    "\n",
    "yval = np.c_[data['yval']]\n",
    "Xval = np.c_[np.ones_like(data['Xval']), data['Xval']]\n",
    "\n",
    "\n",
    "print('X_train:', X_train.shape)\n",
    "print('y_train:', y_train.shape)\n",
    "print('Xval:', Xval.shape)\n",
    "print('yval:', yval.shape)"
   ]
  },
  {
   "cell_type": "code",
   "execution_count": 5,
   "metadata": {},
   "outputs": [
    {
     "data": {
      "text/plain": [
       "array([[  1.        , -33.31800399],\n",
       "       [  1.        , -37.91216403],\n",
       "       [  1.        , -51.20693795],\n",
       "       [  1.        ,  -6.13259585],\n",
       "       [  1.        ,  21.26118327],\n",
       "       [  1.        , -40.31952949],\n",
       "       [  1.        , -14.54153167],\n",
       "       [  1.        ,  32.55976024],\n",
       "       [  1.        ,  13.39343255],\n",
       "       [  1.        ,  44.20988595],\n",
       "       [  1.        ,  -1.14267768],\n",
       "       [  1.        , -12.76686065],\n",
       "       [  1.        ,  34.05450539],\n",
       "       [  1.        ,  39.22350028],\n",
       "       [  1.        ,   1.97449674],\n",
       "       [  1.        ,  29.6217551 ],\n",
       "       [  1.        , -23.66962971],\n",
       "       [  1.        ,  -9.01180139],\n",
       "       [  1.        , -55.94057091],\n",
       "       [  1.        , -35.70859752],\n",
       "       [  1.        ,   9.51020533]])"
      ]
     },
     "execution_count": 5,
     "metadata": {},
     "output_type": "execute_result"
    }
   ],
   "source": [
    "# X_test = np.c_[data['Xtest']]\n",
    "X_test = np.c_[np.ones_like(data['Xtest']), data['Xtest']]\n",
    "X_test"
   ]
  },
  {
   "cell_type": "code",
   "execution_count": 6,
   "metadata": {},
   "outputs": [
    {
     "data": {
      "text/plain": [
       "array([[ 3.31688953],\n",
       "       [ 5.39768952],\n",
       "       [ 0.13042984],\n",
       "       [ 6.1925982 ],\n",
       "       [17.08848712],\n",
       "       [ 0.79950805],\n",
       "       [ 2.82479183],\n",
       "       [28.62123334],\n",
       "       [17.04639081],\n",
       "       [55.38437334],\n",
       "       [ 4.07936733],\n",
       "       [ 8.27039793],\n",
       "       [31.32355102],\n",
       "       [39.15906103],\n",
       "       [ 8.08727989],\n",
       "       [24.11134389],\n",
       "       [ 2.4773548 ],\n",
       "       [ 6.56606472],\n",
       "       [ 6.0380888 ],\n",
       "       [ 4.69273956],\n",
       "       [10.83004606]])"
      ]
     },
     "execution_count": 6,
     "metadata": {},
     "output_type": "execute_result"
    }
   ],
   "source": [
    "y_test = np.c_[data['ytest']]\n",
    "y_test"
   ]
  },
  {
   "cell_type": "code",
   "execution_count": 7,
   "metadata": {
    "scrolled": true
   },
   "outputs": [
    {
     "data": {
      "text/plain": [
       "array([[ 2.13431051],\n",
       "       [ 1.17325668],\n",
       "       [34.35910918],\n",
       "       [36.83795516],\n",
       "       [ 2.80896507],\n",
       "       [ 2.12107248],\n",
       "       [14.71026831],\n",
       "       [ 2.61418439],\n",
       "       [ 3.74017167],\n",
       "       [ 3.73169131],\n",
       "       [ 7.62765885],\n",
       "       [22.7524283 ]])"
      ]
     },
     "execution_count": 7,
     "metadata": {},
     "output_type": "execute_result"
    }
   ],
   "source": [
    "y_train"
   ]
  },
  {
   "cell_type": "code",
   "execution_count": 8,
   "metadata": {},
   "outputs": [
    {
     "data": {
      "text/plain": [
       "array([[  1.        , -15.93675813],\n",
       "       [  1.        , -29.15297922],\n",
       "       [  1.        ,  36.18954863],\n",
       "       [  1.        ,  37.49218733],\n",
       "       [  1.        , -48.05882945],\n",
       "       [  1.        ,  -8.94145794],\n",
       "       [  1.        ,  15.30779289],\n",
       "       [  1.        , -34.70626581],\n",
       "       [  1.        ,   1.38915437],\n",
       "       [  1.        , -44.38375985],\n",
       "       [  1.        ,   7.01350208],\n",
       "       [  1.        ,  22.76274892]])"
      ]
     },
     "execution_count": 8,
     "metadata": {},
     "output_type": "execute_result"
    }
   ],
   "source": [
    "X_train"
   ]
  },
  {
   "cell_type": "code",
   "execution_count": 9,
   "metadata": {},
   "outputs": [
    {
     "data": {
      "text/plain": [
       "array([[  1.        , -16.74653578],\n",
       "       [  1.        , -14.57747075],\n",
       "       [  1.        ,  34.51575866],\n",
       "       [  1.        , -47.01007574],\n",
       "       [  1.        ,  36.97511905],\n",
       "       [  1.        , -40.68611002],\n",
       "       [  1.        ,  -4.47201098],\n",
       "       [  1.        ,  26.53363489],\n",
       "       [  1.        , -42.7976831 ],\n",
       "       [  1.        ,  25.37409938],\n",
       "       [  1.        , -31.10955398],\n",
       "       [  1.        ,  27.31176864],\n",
       "       [  1.        ,  -3.26386201],\n",
       "       [  1.        ,  -1.81827649],\n",
       "       [  1.        , -40.7196624 ],\n",
       "       [  1.        , -50.01324365],\n",
       "       [  1.        , -17.41177155],\n",
       "       [  1.        ,   3.5881937 ],\n",
       "       [  1.        ,   7.08548026],\n",
       "       [  1.        ,  46.28236902],\n",
       "       [  1.        ,  14.61228909]])"
      ]
     },
     "execution_count": 9,
     "metadata": {},
     "output_type": "execute_result"
    }
   ],
   "source": [
    "Xval"
   ]
  },
  {
   "cell_type": "code",
   "execution_count": 10,
   "metadata": {},
   "outputs": [
    {
     "data": {
      "text/plain": [
       "array([[ 4.17020201e+00],\n",
       "       [ 4.06726280e+00],\n",
       "       [ 3.18730676e+01],\n",
       "       [ 1.06236562e+01],\n",
       "       [ 3.18360213e+01],\n",
       "       [ 4.95936972e+00],\n",
       "       [ 4.45159880e+00],\n",
       "       [ 2.22763185e+01],\n",
       "       [-4.38738274e-05],\n",
       "       [ 2.05038016e+01],\n",
       "       [ 3.85834476e+00],\n",
       "       [ 1.93650529e+01],\n",
       "       [ 4.88376281e+00],\n",
       "       [ 1.10971588e+01],\n",
       "       [ 7.46170827e+00],\n",
       "       [ 1.47693464e+00],\n",
       "       [ 2.71916388e+00],\n",
       "       [ 1.09269007e+01],\n",
       "       [ 8.34871235e+00],\n",
       "       [ 5.27819280e+01],\n",
       "       [ 1.33573396e+01]])"
      ]
     },
     "execution_count": 10,
     "metadata": {},
     "output_type": "execute_result"
    }
   ],
   "source": [
    "yval"
   ]
  },
  {
   "cell_type": "code",
   "execution_count": 11,
   "metadata": {},
   "outputs": [
    {
     "data": {
      "image/png": "[encoded data removed]",
      "text/plain": [
       "<Figure size 432x288 with 1 Axes>"
      ]
     },
     "metadata": {
      "needs_background": "light"
     },
     "output_type": "display_data"
    }
   ],
   "source": [
    "plt.scatter(X_train[:,1], y_train, s=50, c='r', marker='x', linewidths=1)\n",
    "plt.xlabel('Change in water level (x)')\n",
    "plt.ylabel('Water flowing out of the dam (y)')\n",
    "plt.ylim(ymin=0);"
   ]
  },
  {
   "cell_type": "code",
   "execution_count": 12,
   "metadata": {
    "scrolled": true
   },
   "outputs": [
    {
     "data": {
      "text/plain": [
       "-5.085426348834809"
      ]
     },
     "execution_count": 12,
     "metadata": {},
     "output_type": "execute_result"
    }
   ],
   "source": [
    "mean_ciw = sum((X_train[:,1]))/(len(X_train[:,1]))\n",
    "mean_ciw"
   ]
  },
  {
   "cell_type": "code",
   "execution_count": 13,
   "metadata": {},
   "outputs": [
    {
     "data": {
      "text/plain": [
       "11.217589325366376"
      ]
     },
     "execution_count": 13,
     "metadata": {},
     "output_type": "execute_result"
    }
   ],
   "source": [
    "mean_wfo = float(sum(y_train[:])/float((len(y_train[:]))))\n",
    "mean_wfo"
   ]
  },
  {
   "cell_type": "code",
   "execution_count": 14,
   "metadata": {},
   "outputs": [],
   "source": [
    "# calculating variance\n",
    "\n",
    "def variance(values, mean):\n",
    "    variance = 0\n",
    "    for val in values:\n",
    "        variance = float(variance + ((val-mean)**2))\n",
    "    return variance"
   ]
  },
  {
   "cell_type": "code",
   "execution_count": 15,
   "metadata": {},
   "outputs": [],
   "source": [
    "# A simple way to write the above def for variance\n",
    "# def variance(values, mean):\n",
    "#     return sum([(val-mean)**2 for val in values])\n",
    "# variance(X_train[:,1], mean_ciw)"
   ]
  },
  {
   "cell_type": "code",
   "execution_count": 16,
   "metadata": {},
   "outputs": [
    {
     "data": {
      "text/plain": [
       "9876.519270389965"
      ]
     },
     "execution_count": 16,
     "metadata": {},
     "output_type": "execute_result"
    }
   ],
   "source": [
    "variance_ciw = variance(X_train[:,1], mean_ciw)\n",
    "variance_ciw"
   ]
  },
  {
   "cell_type": "code",
   "execution_count": 17,
   "metadata": {},
   "outputs": [
    {
     "data": {
      "text/plain": [
       "1872.8871778624105"
      ]
     },
     "execution_count": 17,
     "metadata": {},
     "output_type": "execute_result"
    }
   ],
   "source": [
    "variance_wfo = variance(y_train, mean_wfo)\n",
    "variance_wfo"
   ]
  },
  {
   "cell_type": "code",
   "execution_count": 18,
   "metadata": {},
   "outputs": [],
   "source": [
    "# calculating covariance \n",
    "\n",
    "def covariance(inparm, output, mean_input, mean_output):\n",
    "    covariance = 0\n",
    "    for i in range(len(output)):\n",
    "        covariance = (covariance + ((inparm[i] - mean_input)*(output[i] - mean_output)))\n",
    "    return covariance"
   ]
  },
  {
   "cell_type": "code",
   "execution_count": 19,
   "metadata": {},
   "outputs": [
    {
     "data": {
      "text/plain": [
       "3632.3786498320987"
      ]
     },
     "execution_count": 19,
     "metadata": {},
     "output_type": "execute_result"
    }
   ],
   "source": [
    "covariance_final = float(covariance(X_train[:,1], y_train[:], mean_ciw, mean_wfo))\n",
    "covariance_final"
   ]
  },
  {
   "cell_type": "code",
   "execution_count": 20,
   "metadata": {},
   "outputs": [
    {
     "data": {
      "text/plain": [
       "(0.36777922974565086, 13.08790351086908)"
      ]
     },
     "execution_count": 20,
     "metadata": {},
     "output_type": "execute_result"
    }
   ],
   "source": [
    "# Linear Fitting of parameters \n",
    "# guiding equation Y = mX+c\n",
    "# slope(m), constant(c)\n",
    "m = covariance_final/variance_ciw\n",
    "c = mean_wfo - (m*mean_ciw)\n",
    "m,c"
   ]
  },
  {
   "cell_type": "code",
   "execution_count": 21,
   "metadata": {},
   "outputs": [
    {
     "name": "stdout",
     "output_type": "stream",
     "text": [
      "enter the change in reservoir levels15\n",
      "the predicted water flowing out from model = 18.60459195705384\n"
     ]
    }
   ],
   "source": [
    "# prediction\n",
    "wfo = (m*float(input(\"enter the change in reservoir levels\"))+c)\n",
    "print('the predicted water flowing out from model =', wfo)"
   ]
  },
  {
   "cell_type": "code",
   "execution_count": 22,
   "metadata": {},
   "outputs": [
    {
     "data": {
      "image/png": "[encoded data removed]",
      "text/plain": [
       "<Figure size 432x288 with 1 Axes>"
      ]
     },
     "metadata": {
      "needs_background": "light"
     },
     "output_type": "display_data"
    }
   ],
   "source": [
    "# fitting the obtained regression equation to the data \n",
    "\n",
    "x = X_train[:,1]\n",
    "y = (m*x)+c\n",
    "\n",
    "# fig = plt.figure()\n",
    "plt.plot(x,y, label = 'prediction curve')\n",
    "# plt.show()\n",
    "\n",
    "plt.scatter(X_train[:,1], y_train, s=50, c='r', marker='x', linewidths=1)\n",
    "plt.xlabel('Change in water level (x)')\n",
    "plt.ylabel('Water flowing out of the dam (y)')\n",
    "plt.ylim(ymin=-5, ymax=50)\n",
    "plt.xlim(xmin = -60, xmax=50)\n",
    "plt.legend(loc = 1);\n"
   ]
  },
  {
   "cell_type": "code",
   "execution_count": 23,
   "metadata": {},
   "outputs": [
    {
     "name": "stdout",
     "output_type": "stream",
     "text": [
      "8.379456541593012\n",
      "53.158474666253625\n",
      "46.930363369648234\n",
      "29.268016730916468\n",
      "19.826464515007515\n",
      "8.773025965729499\n",
      "32.84253175762056\n",
      "17.21563954334642\n",
      "1.2721555289869708\n",
      "921.6466009716866\n",
      "100.2756545155636\n",
      "0.02027459204371723\n",
      "44.342840841409746\n",
      "184.37592685480234\n",
      "44.58689385376985\n",
      "0.022684737231578714\n",
      "4.935516111549354\n",
      "13.986601018487645\n",
      "248.6513981014328\n",
      "30.515532396272206\n",
      "45.035081169401245\n"
     ]
    },
    {
     "data": {
      "image/png": "[encoded data removed]",
      "text/plain": [
       "<Figure size 432x288 with 1 Axes>"
      ]
     },
     "metadata": {
      "needs_background": "light"
     },
     "output_type": "display_data"
    }
   ],
   "source": [
    "# calculating linear regression error\n",
    "# J is the cost function \n",
    "# Jtest is the test set error\n",
    "# H is the hypothesis (y) = mx + c \n",
    "for i in range(len(X_test)):\n",
    "    H = (m * X_test[i,1])+c\n",
    "#     print(H)\n",
    "    Jtest = (1/(2*m))*(sum((H - y_test[i])**2))\n",
    "    print(Jtest)\n",
    "    plt.scatter(i, Jtest, s=50, c='r', marker ='x', linewidths=1)\n",
    "    plt.xlabel('iterations')\n",
    "    plt.ylabel('Test set error J()')\n",
    "    "
   ]
  },
  {
   "cell_type": "code",
   "execution_count": 34,
   "metadata": {},
   "outputs": [
    {
     "data": {
      "text/plain": [
       "(array([[0.],\n",
       "        [0.],\n",
       "        [0.],\n",
       "        [0.],\n",
       "        [0.],\n",
       "        [0.],\n",
       "        [0.],\n",
       "        [0.],\n",
       "        [0.],\n",
       "        [0.],\n",
       "        [0.],\n",
       "        [0.]]),\n",
       " array([[0.],\n",
       "        [0.],\n",
       "        [0.],\n",
       "        [0.],\n",
       "        [0.],\n",
       "        [0.],\n",
       "        [0.],\n",
       "        [0.],\n",
       "        [0.],\n",
       "        [0.],\n",
       "        [0.],\n",
       "        [0.]]))"
      ]
     },
     "execution_count": 34,
     "metadata": {},
     "output_type": "execute_result"
    }
   ],
   "source": [
    "error_train = np.zeros((m,1))\n",
    "\n",
    "error_val = np.zeros((m,1))\n",
    "\n",
    "error_train, error_val"
   ]
  },
  {
   "cell_type": "code",
   "execution_count": null,
   "metadata": {},
   "outputs": [],
   "source": []
  }
 ],
 "metadata": {
  "kernelspec": {
   "display_name": "Python 3.8 (tensorflow)",
   "language": "python",
   "name": "tensorflow"
  },
  "language_info": {
   "codemirror_mode": {
    "name": "ipython",
    "version": 3
   },
   "file_extension": ".py",
   "mimetype": "text/x-python",
   "name": "python",
   "nbconvert_exporter": "python",
   "pygments_lexer": "ipython3",
   "version": "3.7.9"
  }
 },
 "nbformat": 4,
 "nbformat_minor": 4
}
