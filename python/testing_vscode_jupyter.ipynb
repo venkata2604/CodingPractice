{
 "cells": [
  {
   "cell_type": "code",
   "execution_count": 1,
   "metadata": {},
   "outputs": [],
   "source": [
    "import numpy as np"
   ]
  },
  {
   "cell_type": "code",
   "execution_count": 4,
   "metadata": {},
   "outputs": [
    {
     "data": {
      "text/plain": [
       "array([ 0. ,  1.5,  3. ,  4.5,  6. ,  7.5,  9. , 10.5, 12. , 13.5, 15. ,\n",
       "       16.5, 18. , 19.5, 21. , 22.5, 24. , 25.5, 27. , 28.5, 30. , 31.5,\n",
       "       33. , 34.5, 36. , 37.5, 39. , 40.5, 42. , 43.5, 45. , 46.5, 48. ,\n",
       "       49.5, 51. , 52.5, 54. , 55.5, 57. , 58.5, 60. , 61.5, 63. , 64.5,\n",
       "       66. , 67.5, 69. , 70.5, 72. , 73.5, 75. , 76.5, 78. , 79.5, 81. ,\n",
       "       82.5, 84. , 85.5, 87. , 88.5, 90. , 91.5, 93. , 94.5, 96. , 97.5,\n",
       "       99. ])"
      ]
     },
     "execution_count": 4,
     "metadata": {},
     "output_type": "execute_result"
    }
   ],
   "source": [
    "r = np.arange(0,100, 1.5)\n",
    "r"
   ]
  }
 ],
 "metadata": {
  "kernelspec": {
   "display_name": "Python 3.10.3 ('api')",
   "language": "python",
   "name": "python3"
  },
  "language_info": {
   "codemirror_mode": {
    "name": "ipython",
    "version": 3
   },
   "file_extension": ".py",
   "mimetype": "text/x-python",
   "name": "python",
   "nbconvert_exporter": "python",
   "pygments_lexer": "ipython3",
   "version": "3.10.3"
  },
  "orig_nbformat": 4,
  "vscode": {
   "interpreter": {
    "hash": "6cf5496375705f275b4211a6c52d9a0c1eff7c4bb54b66cd326cf06e580a8546"
   }
  }
 },
 "nbformat": 4,
 "nbformat_minor": 2
}
