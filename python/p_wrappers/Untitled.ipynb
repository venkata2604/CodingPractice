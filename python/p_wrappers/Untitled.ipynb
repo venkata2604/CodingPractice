{
 "cells": [
  {
   "cell_type": "markdown",
   "id": "ebcdc0ea",
   "metadata": {},
   "source": [
    "# Decorators"
   ]
  },
  {
   "cell_type": "markdown",
   "id": "e460c525",
   "metadata": {},
   "source": [
    "### First-class-functions"
   ]
  },
  {
   "cell_type": "code",
   "execution_count": 4,
   "id": "3fe6f366",
   "metadata": {},
   "outputs": [
    {
     "name": "stdout",
     "output_type": "stream",
     "text": [
      "HELLO\n"
     ]
    }
   ],
   "source": [
    "# first class functions \n",
    "# Python functions are first class objects \n",
    "\n",
    "def shout(text):\n",
    "    return text.upper()\n",
    "\n",
    "print(shout('hello'))"
   ]
  },
  {
   "cell_type": "code",
   "execution_count": 3,
   "id": "f32ae247",
   "metadata": {},
   "outputs": [
    {
     "name": "stdout",
     "output_type": "stream",
     "text": [
      "FIRST\n"
     ]
    }
   ],
   "source": [
    "yell = shout\n",
    "print(yell('first'))"
   ]
  },
  {
   "cell_type": "markdown",
   "id": "d959d465",
   "metadata": {},
   "source": [
    "Functions passed as arguments to other functions. <br>\n",
    "* As functions are objects, we can pass them as arguments to other functions.\n",
    "* Functions that can accept other functions as arguments are called as higher-order functions. "
   ]
  },
  {
   "cell_type": "code",
   "execution_count": 8,
   "id": "70c77655",
   "metadata": {},
   "outputs": [
    {
     "name": "stdout",
     "output_type": "stream",
     "text": [
      "HI, I AM CREATED BY A FUNCTION\n",
      "                    PASSED AS AN ARGUMENT.\n",
      "hi, i am created by a function\n",
      "                    passed as an argument.\n"
     ]
    }
   ],
   "source": [
    "# Higher order functions\n",
    "\n",
    "# Python program to illustrate functions\n",
    "# can be passed as arguments to other functions\n",
    "\n",
    "def shout(text):\n",
    "    return text.upper()\n",
    "\n",
    "\n",
    "def whisper(text):\n",
    "    return text.lower()\n",
    "\n",
    "\n",
    "# here greet is a function which can take a function as an argument\n",
    "\n",
    "def greet(func):\n",
    "    # storing the function in a variable\n",
    "    greeting = func(\"\"\"Hi, I am created by a function\n",
    "                    passed as an argument.\"\"\")\n",
    "    print (greeting)\n",
    "    \n",
    "greet(shout)\n",
    "greet(whisper)"
   ]
  },
  {
   "cell_type": "code",
   "execution_count": 7,
   "id": "bfbcbf0c",
   "metadata": {},
   "outputs": [
    {
     "name": "stdout",
     "output_type": "stream",
     "text": [
      "25\n"
     ]
    }
   ],
   "source": [
    "# functions returning other functions\n",
    "\n",
    "def create_adder(x):\n",
    "    def adder(y):\n",
    "        return x+y\n",
    "  \n",
    "    return adder\n",
    "  \n",
    "    \n",
    "# here adder is returned by the create_adder\n",
    "\n",
    "add_15 = create_adder(15)\n",
    "  \n",
    "print (add_15(10))"
   ]
  },
  {
   "cell_type": "markdown",
   "id": "59ae080b",
   "metadata": {},
   "source": [
    "<b> Properties of a first-class-objects <b>\n",
    "\n",
    "* A function is an instance of the Object type.<br>\n",
    "* You can store the function in a variable.<br>\n",
    "* You can pass the function as a parameter to another function.<br>\n",
    "* You can return the function from a function.<br>\n",
    "* You can store them in data structures such as hash tables, lists, … <br>\n"
   ]
  },
  {
   "cell_type": "markdown",
   "id": "1f009663",
   "metadata": {},
   "source": [
    "### Decorators"
   ]
  },
  {
   "cell_type": "markdown",
   "id": "40baf46c",
   "metadata": {},
   "source": [
    "Decorators are used to modify the behaviour of the functions or class. In decorators, functions are taken as the argument into another function and then called inside the wrapper function."
   ]
  },
  {
   "cell_type": "markdown",
   "id": "412d4765",
   "metadata": {},
   "source": [
    "#### Syntax for Decorator"
   ]
  },
  {
   "cell_type": "code",
   "execution_count": 12,
   "id": "914b038a",
   "metadata": {},
   "outputs": [
    {
     "ename": "NameError",
     "evalue": "name 'gfg_decorator' is not defined",
     "output_type": "error",
     "traceback": [
      "\u001b[0;31m---------------------------------------------------------------------------\u001b[0m",
      "\u001b[0;31mNameError\u001b[0m                                 Traceback (most recent call last)",
      "\u001b[0;32m/tmp/ipykernel_331/3787303262.py\u001b[0m in \u001b[0;36m<module>\u001b[0;34m\u001b[0m\n\u001b[0;32m----> 1\u001b[0;31m \u001b[0;34m@\u001b[0m\u001b[0mgfg_decorator\u001b[0m\u001b[0;34m\u001b[0m\u001b[0;34m\u001b[0m\u001b[0m\n\u001b[0m\u001b[1;32m      2\u001b[0m \u001b[0;34m\u001b[0m\u001b[0m\n\u001b[1;32m      3\u001b[0m \u001b[0;32mdef\u001b[0m \u001b[0mhellow_decorator\u001b[0m\u001b[0;34m(\u001b[0m\u001b[0;34m)\u001b[0m\u001b[0;34m:\u001b[0m\u001b[0;34m\u001b[0m\u001b[0;34m\u001b[0m\u001b[0m\n\u001b[1;32m      4\u001b[0m     \u001b[0mprint\u001b[0m\u001b[0;34m(\u001b[0m\u001b[0;34m\"gfg\"\u001b[0m\u001b[0;34m)\u001b[0m\u001b[0;34m\u001b[0m\u001b[0;34m\u001b[0m\u001b[0m\n\u001b[1;32m      5\u001b[0m \u001b[0;34m\u001b[0m\u001b[0m\n",
      "\u001b[0;31mNameError\u001b[0m: name 'gfg_decorator' is not defined"
     ]
    }
   ],
   "source": [
    "@gfg_decorator\n",
    "\n",
    "def hellow_decorator():\n",
    "    print(\"gfg\")\n",
    "\n",
    "\"\"\" Above code is equivalent to\n",
    "\n",
    "def hello_decorator():\n",
    "    print('gfg')\n",
    "    \n",
    "hello_decorator = gfg_decorator(hello_decorator)\"\"\"\n",
    "    "
   ]
  },
  {
   "cell_type": "code",
   "execution_count": 13,
   "id": "37535cd4",
   "metadata": {},
   "outputs": [
    {
     "name": "stdout",
     "output_type": "stream",
     "text": [
      "hello, this is before function execution\n",
      "this is inside the function\n",
      "this is after function execution\n"
     ]
    }
   ],
   "source": [
    "# defining a decorator\n",
    "\n",
    "def hello_decorator(func):\n",
    "    \n",
    "    \"\"\" inner1 is a wrapper function in which the argument is called \"\"\"\n",
    "    \"\"\" inner function can access the outer local functions like this case 'func' \"\"\"\n",
    "    \n",
    "    def inner1():\n",
    "        print(\"hello, this is before function execution\")\n",
    "        \n",
    "        \"\"\" calling the actual function now \"\"\"\n",
    "        \"\"\" inside the wrapper function \"\"\"\n",
    "        func()\n",
    "        \n",
    "        print(\"this is after function execution\")\n",
    "    return inner1\n",
    "\n",
    "\n",
    "# defining a function to be called inside a wrapper\n",
    "def function_to_be_used():\n",
    "    print(\"this is inside the function\")\n",
    "    \n",
    "# passing 'functionto be used inside the decorator to control its behaviour'\n",
    "function_to_be_used = hello_decorator(function_to_be_used)\n",
    "\n",
    "\n",
    "# callling the function \n",
    "function_to_be_used()"
   ]
  },
  {
   "cell_type": "code",
   "execution_count": 31,
   "id": "274b4042",
   "metadata": {},
   "outputs": [
    {
     "name": "stdout",
     "output_type": "stream",
     "text": [
      "3628800\n",
      "Total time taken: factorial 2.0023791790008545\n"
     ]
    }
   ],
   "source": [
    "# example to find out the execution time of a function using a decorator\n",
    "\n",
    "import time\n",
    "import math\n",
    "\n",
    "# decorator to calculate the duration raken by any function\n",
    "\n",
    "def calculate_time(func):\n",
    "    \n",
    "    # adding arguments inside the inner1, \n",
    "    # if function takes any arguments, they can be added as follows\n",
    "    \n",
    "    def inner1(*args, **kwargs):\n",
    "        \n",
    "        # storing time before function execution \n",
    "        begin = time.time()\n",
    "        \n",
    "        func(*args, **kwargs)\n",
    "        \n",
    "        # storing the time after function execution \n",
    "        end = time.time()\n",
    "        \n",
    "        print(f\"Total time taken: {func.__name__} {end-begin}\")\n",
    "        \n",
    "    return inner1\n",
    "\n",
    "# this can be added to any function present.\n",
    "# In this case to calculate a factorial\n",
    "@calculate_time\n",
    "def factorial(num):\n",
    "    time.sleep(2)\n",
    "    print(math.factorial(num))\n",
    "    \n",
    "    \n",
    "# calling the function \n",
    "factorial(10)"
   ]
  },
  {
   "cell_type": "markdown",
   "id": "552aac8c",
   "metadata": {},
   "source": [
    "What if a function returns something or an argument is passed to the function?\n",
    "In all the above examples the functions didn’t return anything so there wasn’t any issue, but one may need the returned value."
   ]
  },
  {
   "cell_type": "code",
   "execution_count": 32,
   "id": "4c5da307",
   "metadata": {},
   "outputs": [
    {
     "name": "stdout",
     "output_type": "stream",
     "text": [
      "before execution\n",
      "inside the function sum 2 nums\n",
      "after Execution\n",
      "sum =  3\n"
     ]
    }
   ],
   "source": [
    "def hello_decorator(func):\n",
    "    def inner1(*args, **kwargs):\n",
    "        \n",
    "        print(\"before execution\")\n",
    "        \n",
    "        # getting the returned value\n",
    "        returned_value = func(*args, **kwargs)\n",
    "        print(\"after Execution\")\n",
    "        \n",
    "        #returning the value to the original frame\n",
    "        return returned_value\n",
    "    \n",
    "    return inner1\n",
    "\n",
    "# adding the decorater to the function \n",
    "@hello_decorator\n",
    "def sum_two_numbers(a,b):\n",
    "    print(\"inside the function sum 2 nums\")\n",
    "    return a + b\n",
    "\n",
    "\n",
    "a, b = 1, 2\n",
    "\n",
    "# getting the value through return of the function \n",
    "\n",
    "print(\"sum = \", sum_two_numbers(a, b))"
   ]
  }
 ],
 "metadata": {
  "kernelspec": {
   "display_name": "wrappers",
   "language": "python",
   "name": "wrappers"
  },
  "language_info": {
   "codemirror_mode": {
    "name": "ipython",
    "version": 3
   },
   "file_extension": ".py",
   "mimetype": "text/x-python",
   "name": "python",
   "nbconvert_exporter": "python",
   "pygments_lexer": "ipython3",
   "version": "3.10.0"
  }
 },
 "nbformat": 4,
 "nbformat_minor": 5
}
