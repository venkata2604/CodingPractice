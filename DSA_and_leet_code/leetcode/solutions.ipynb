{
 "cells": [
  {
   "cell_type": "code",
   "execution_count": 1,
   "metadata": {},
   "outputs": [],
   "source": [
    "test_case = [2,14,18,22,22]"
   ]
  },
  {
   "cell_type": "code",
   "execution_count": 2,
   "metadata": {},
   "outputs": [
    {
     "data": {
      "text/plain": [
       "{2: 1, 14: 1, 18: 1, 22: 2}"
      ]
     },
     "execution_count": 2,
     "metadata": {},
     "output_type": "execute_result"
    }
   ],
   "source": [
    "nums = test_case\n",
    "seen = {}\n",
    "for num in nums:\n",
    "    seen[num] = seen.get(num, 0) + 1\n",
    "\n",
    "seen "
   ]
  },
  {
   "cell_type": "code",
   "execution_count": 8,
   "metadata": {},
   "outputs": [
    {
     "data": {
      "text/plain": [
       "2"
      ]
     },
     "execution_count": 8,
     "metadata": {},
     "output_type": "execute_result"
    }
   ],
   "source": [
    "seen.get(22, 0)"
   ]
  },
  {
   "cell_type": "code",
   "execution_count": 9,
   "metadata": {},
   "outputs": [],
   "source": [
    "def containsDuplicate(nums):\n",
    "    seen = {}\n",
    "    for num in nums:\n",
    "        if num in seen and seen[num] >=1:\n",
    "            return True\n",
    "        seen[num] = seen.get(num, 0)+1\n",
    "        "
   ]
  },
  {
   "cell_type": "code",
   "execution_count": 10,
   "metadata": {},
   "outputs": [],
   "source": [
    "# s = \"anagram\"\n",
    "# t = \"nagaram\"\n",
    "\n",
    "s = \"rat\"\n",
    "t = \"car\""
   ]
  },
  {
   "cell_type": "code",
   "execution_count": 12,
   "metadata": {},
   "outputs": [],
   "source": [
    "s_list = list(s)\n",
    "t_list = list(t)\n",
    "\n",
    "# if len(s_list)==len(t_list):\n",
    "#     for i in range(len(s_list)):\n",
    "#         if s_list[i] in t_list:\n",
    "#             t_list.remove(s_list[i])"
   ]
  }
 ],
 "metadata": {
  "kernelspec": {
   "display_name": "allinone",
   "language": "python",
   "name": "python3"
  },
  "language_info": {
   "codemirror_mode": {
    "name": "ipython",
    "version": 3
   },
   "file_extension": ".py",
   "mimetype": "text/x-python",
   "name": "python",
   "nbconvert_exporter": "python",
   "pygments_lexer": "ipython3",
   "version": "3.10.9"
  }
 },
 "nbformat": 4,
 "nbformat_minor": 2
}
