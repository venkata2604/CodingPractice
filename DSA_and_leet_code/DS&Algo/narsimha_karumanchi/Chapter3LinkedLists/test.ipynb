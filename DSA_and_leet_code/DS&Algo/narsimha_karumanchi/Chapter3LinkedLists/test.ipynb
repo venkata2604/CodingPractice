{
 "cells": [
  {
   "cell_type": "code",
   "execution_count": 1,
   "metadata": {},
   "outputs": [
    {
     "data": {
      "text/plain": [
       "False"
      ]
     },
     "execution_count": 1,
     "metadata": {},
     "output_type": "execute_result"
    }
   ],
   "source": [
    "2<2"
   ]
  },
  {
   "cell_type": "code",
   "execution_count": 2,
   "metadata": {},
   "outputs": [
    {
     "name": "stdout",
     "output_type": "stream",
     "text": [
      "6\n"
     ]
    }
   ],
   "source": [
    "a = 5  # binary: 101\n",
    "b = 3  # binary: 011\n",
    "\n",
    "result = a ^ b  # binary result: 110, decimal result: 6\n",
    "print(result)  # Output: 6\n"
   ]
  },
  {
   "cell_type": "code",
   "execution_count": 7,
   "metadata": {},
   "outputs": [
    {
     "name": "stdout",
     "output_type": "stream",
     "text": [
      "i 0 ['a', 'e', 't']\n",
      "j 1 ['a', 'e', 't']\n",
      "found\n",
      "j 2 ['a', 'n', 't']\n",
      "j 3 ['a', 'e', 't']\n",
      "found\n",
      "j 4 ['a', 'n', 't']\n",
      "j 5 ['a', 'b', 't']\n",
      "result [['eat', 'tea', 'ate']]\n",
      "i 1 ['a', 'e', 't']\n",
      "j 2 ['a', 'n', 't']\n",
      "j 3 ['a', 'e', 't']\n",
      "found\n",
      "j 4 ['a', 'n', 't']\n",
      "j 5 ['a', 'b', 't']\n",
      "result [['eat', 'tea', 'ate'], ['tea', 'ate']]\n",
      "i 2 ['a', 'n', 't']\n",
      "j 3 ['a', 'e', 't']\n",
      "j 4 ['a', 'n', 't']\n",
      "found\n",
      "j 5 ['a', 'b', 't']\n",
      "result [['eat', 'tea', 'ate'], ['tea', 'ate'], ['tan', 'nat']]\n",
      "i 3 ['a', 'e', 't']\n",
      "j 4 ['a', 'n', 't']\n",
      "j 5 ['a', 'b', 't']\n",
      "result [['eat', 'tea', 'ate'], ['tea', 'ate'], ['tan', 'nat'], ['ate']]\n",
      "i 4 ['a', 'n', 't']\n",
      "j 5 ['a', 'b', 't']\n",
      "result [['eat', 'tea', 'ate'], ['tea', 'ate'], ['tan', 'nat'], ['ate'], ['nat']]\n"
     ]
    }
   ],
   "source": [
    "strs =[\"eat\",\"tea\",\"tan\",\"ate\",\"nat\",\"bat\"]\n",
    "\n",
    "result_list = []\n",
    "for i in range(len(strs) - 1):\n",
    "    temp_i = sorted(strs[i])\n",
    "    print(\"i\", i, temp_i)\n",
    "    sublist = [strs[i]]\n",
    "    for j in range(i+1, len(strs)):\n",
    "        temp_s = sorted(strs[j])\n",
    "        print(\"j\", j , temp_s)\n",
    "        if temp_i == temp_s:\n",
    "            print(\"found\")\n",
    "            sublist.append(strs[j])\n",
    "    result_list.append(sublist)\n",
    "\n",
    "    print(\"result\", result_list)"
   ]
  },
  {
   "cell_type": "code",
   "execution_count": 22,
   "metadata": {},
   "outputs": [
    {
     "name": "stdout",
     "output_type": "stream",
     "text": [
      "String eat\n",
      "String tea\n",
      "String tan\n",
      "String ate\n",
      "String nat\n",
      "String bat\n",
      "dict_values([['eat', 'tea', 'ate'], ['tan', 'nat'], ['bat']])\n"
     ]
    }
   ],
   "source": [
    "from collections import defaultdict\n",
    "\n",
    "res = defaultdict(list)\n",
    "\n",
    "for s in strs:\n",
    "    print(\"String\", s)\n",
    "    count = [0]*26 # O(26)\n",
    "    for c in s:\n",
    "        count[ord(c)- ord(\"a\")] +=1\n",
    "    res[tuple(count)].append(s)\n",
    "\n",
    "print(res.values())\n"
   ]
  },
  {
   "cell_type": "code",
   "execution_count": 20,
   "metadata": {},
   "outputs": [
    {
     "name": "stdout",
     "output_type": "stream",
     "text": [
      "[[], [3], [2], [1], [], [], []]\n",
      "length of freq 7\n"
     ]
    }
   ],
   "source": [
    "from collections import defaultdict\n",
    "\n",
    "\n",
    "nums = [1,1,1,2,2,3]\n",
    "k=2\n",
    "count_dict = defaultdict(int)\n",
    "\n",
    "freq = [[] for i in range(len(nums)+1)]\n",
    "        \n",
    "for i in nums:\n",
    "    count_dict[i] = count_dict.get(i,0)+1\n",
    "\n",
    "for key, value in count_dict.items():\n",
    "    freq[value].append(key)\n",
    "\n",
    "print(freq)\n",
    "print(\"length of freq\", len(freq))\n",
    "\n",
    "result = [] \n",
    "for i in range(len(freq)-1,0 -1):\n",
    "    print(i)\n",
    "    for n in freq[i]:\n",
    "        if n!=[]:\n",
    "            result.append(n)\n",
    "    if len(result) ==k:\n",
    "        print(\"result lenght: \" , len(result), k)\n",
    "        \n",
    "\n"
   ]
  },
  {
   "cell_type": "code",
   "execution_count": 14,
   "metadata": {},
   "outputs": [
    {
     "data": {
      "text/plain": [
       "[]"
      ]
     },
     "execution_count": 14,
     "metadata": {},
     "output_type": "execute_result"
    }
   ],
   "source": [
    "result"
   ]
  }
 ],
 "metadata": {
  "kernelspec": {
   "display_name": "allinone",
   "language": "python",
   "name": "python3"
  },
  "language_info": {
   "codemirror_mode": {
    "name": "ipython",
    "version": 3
   },
   "file_extension": ".py",
   "mimetype": "text/x-python",
   "name": "python",
   "nbconvert_exporter": "python",
   "pygments_lexer": "ipython3",
   "version": "3.10.9"
  }
 },
 "nbformat": 4,
 "nbformat_minor": 2
}
