{
 "cells": [
  {
   "cell_type": "markdown",
   "metadata": {},
   "source": [
    "# Linked Lists"
   ]
  },
  {
   "cell_type": "markdown",
   "metadata": {
    "jupyter": {
     "outputs_hidden": true
    }
   },
   "source": [
    "A linked list is a linear Data Structure, in which the elements are not stored\n",
    "at contigious memory allocations. The elements in a linked list are linked one\n",
    "one after the other like a train bogies as shown in the figure below\n",
    "\n"
   ]
  },
  {
   "attachments": {
    "0ffa3de2-41c7-4993-849d-40ee8f002238.png": {
     "image/png": "[encoded data removed]"
    },
    "365e8a1c-e192-4754-9ff2-6b807fe33db3.png": {
     "image/png": "[encoded data removed]"
    }
   },
   "cell_type": "markdown",
   "metadata": {},
   "source": [
    "![image.png](attachment:0ffa3de2-41c7-4993-849d-40ee8f002238.png)![image.png](attachment:365e8a1c-e192-4754-9ff2-6b807fe33db3.png)"
   ]
  },
  {
   "cell_type": "markdown",
   "metadata": {},
   "source": [
    "A Linked list is represented by a pointer to the first node of the linked list. The first node is called the thread. id the linked list is empty, then the value of head is NULL. Each node of a list consists of atleast two parts:\n",
    "* Data\n",
    "* Pointer (Or Reference) to the next node"
   ]
  },
  {
   "cell_type": "markdown",
   "metadata": {},
   "source": [
    "Defining a linked List\n"
   ]
  },
  {
   "cell_type": "code",
   "execution_count": 1,
   "metadata": {},
   "outputs": [],
   "source": [
    "# Node Class\n",
    "class Node:\n",
    "    \n",
    "    # Function to initialise the node object\n",
    "    def __init__(self, data):\n",
    "        self.data = data # Assign Data\n",
    "        self.next = None # initialise next as Null\n",
    "        \n",
    "        \n",
    "# Linked List Class\n",
    "class LinkedList:\n",
    "    \n",
    "    # Function to initialise the Linked List Object\n",
    "    def __init__(self):\n",
    "        self.head = None\n",
    "        "
   ]
  },
  {
   "cell_type": "markdown",
   "metadata": {},
   "source": [
    "Defining a Linked list with three nodes below"
   ]
  },
  {
   "cell_type": "code",
   "execution_count": 4,
   "metadata": {},
   "outputs": [],
   "source": [
    "# A simple python program to introduce a linked list\n",
    "\n",
    "#Node Class\n",
    "class Node:\n",
    "    \n",
    "    # Function to initialise the node object\n",
    "    def __init__(self, data):\n",
    "        self.data = data  # Assigining Data\n",
    "        self.next = None  # initialising next as Null\n",
    "        \n",
    "# linked list class contains a Node Object\n",
    "class LinkedList:\n",
    "    \n",
    "    # Function to initialise head\n",
    "    def __init__(self):\n",
    "        self.head = None\n",
    "        \n",
    "# Code execution starts here\n",
    "if __name__ == '__main__':\n",
    "    # start with an empty list\n",
    "    llist = LinkedList()\n",
    "    \n",
    "    llist.head = Node(1)\n",
    "    second = Node(2)\n",
    "    third = Node(3)\n",
    "    \n",
    "    \n",
    "    '''\n",
    "    Three nodes have been created.\n",
    "    We have references to these three blocks as head,\n",
    "    second and third\n",
    "  \n",
    "    llist.head     second             third\n",
    "        |             |                 |\n",
    "        |             |                 |\n",
    "    +----+------+     +----+------+     +----+------+\n",
    "    | 1 | None |     | 2 | None |     | 3 | None |\n",
    "    +----+------+     +----+------+     +----+------+\n",
    "    '''\n",
    "    \n",
    "    \n",
    "    llist.head.next = second; # linking first node with second\n",
    "    \n",
    "    '''\n",
    "    Now next of first Node refers to second. So they\n",
    "    both are linked.\n",
    "  \n",
    "    llist.head     second             third\n",
    "        |             |                 |\n",
    "        |             |                 |\n",
    "    +----+------+     +----+------+     +----+------+\n",
    "    | 1 | o-------->| 2 | null |     | 3 | null |\n",
    "    +----+------+     +----+------+     +----+------+\n",
    "    '''\n",
    "    \n",
    "    second.next = third # Link second node with the third node\n",
    "    \n",
    "    \n",
    "    '''\n",
    "    Now next of second Node refers to third. So all three\n",
    "    nodes are linked.\n",
    "  \n",
    "    llist.head     second             third\n",
    "        |             |                 |\n",
    "        |             |                 |\n",
    "    +----+------+     +----+------+     +----+------+\n",
    "    | 1 | o-------->| 2 | o-------->| 3 | null |\n",
    "    +----+------+     +----+------+     +----+------+\n",
    "    '''\n",
    "    "
   ]
  },
  {
   "cell_type": "markdown",
   "metadata": {},
   "source": [
    "### Linked List Traversal\n"
   ]
  },
  {
   "cell_type": "code",
   "execution_count": 15,
   "metadata": {},
   "outputs": [
    {
     "name": "stdout",
     "output_type": "stream",
     "text": [
      "1\n",
      "2\n",
      "3\n"
     ]
    }
   ],
   "source": [
    "# A python program for traversal of linked list \n",
    "\n",
    "# Node Class\n",
    "\n",
    "class Node:\n",
    "    \n",
    "    # Function to initialise the node object\n",
    "    \n",
    "    def __init__(self, data):\n",
    "        self.data = data # Assigning the data\n",
    "        self.next = None\n",
    "        \n",
    "        \n",
    "class LinkedList:\n",
    "    # Function to initialise head\n",
    "    def __init__(self):\n",
    "        self.head = None\n",
    "        \n",
    "    # This function prints the contents of linked list\n",
    "    #starting from head\n",
    "    def printlist(self):\n",
    "        temp = self.head\n",
    "        while temp:\n",
    "            print(temp.data)\n",
    "            temp = temp.next\n",
    "            \n",
    "# Code execution starts here \n",
    "if __name__ == '__main__':\n",
    "    # start with the empty list\n",
    "    llist = LinkedList()\n",
    "    \n",
    "    llist.head = Node(1)\n",
    "    second = Node(2)\n",
    "    third = Node(3)\n",
    "    \n",
    "    llist.head.next = second;\n",
    "    second.next = third;\n",
    "    \n",
    "    llist.printlist()"
   ]
  },
  {
   "cell_type": "markdown",
   "metadata": {},
   "source": [
    "### Linked List Insertion "
   ]
  },
  {
   "cell_type": "markdown",
   "metadata": {},
   "source": [
    "A Node can be added in 3 ways \n",
    "1) At the front of the list\n",
    "2) After a given node\n",
    "3) At the end of a list"
   ]
  },
  {
   "cell_type": "code",
   "execution_count": 11,
   "metadata": {},
   "outputs": [],
   "source": [
    "class Node:\n",
    "    \n",
    "    # Function to initialise the node object\n",
    "    \n",
    "    def __init__(self,data):\n",
    "        self.data = data\n",
    "        self.next = None\n",
    "        \n",
    "# Linked List class \n",
    "class LinkedList:\n",
    "    # Function to initialise the Linked List Object\n",
    "    def __init__(self):\n",
    "        self.head = None"
   ]
  },
  {
   "cell_type": "code",
   "execution_count": 21,
   "metadata": {},
   "outputs": [
    {
     "name": "stdout",
     "output_type": "stream",
     "text": [
      "1\n",
      "2\n",
      "3\n"
     ]
    }
   ],
   "source": [
    "# start with an empty list\n",
    "llist = LinkedList()\n",
    "\n",
    "llist.head = Node(1)\n",
    "second = Node(2)\n",
    "third = Node(3)\n",
    "llist.head.next = second\n",
    "second.next = third\n",
    "\n",
    "llist.printlist()\n",
    "\n"
   ]
  },
  {
   "cell_type": "markdown",
   "metadata": {},
   "source": [
    "Adding a node at the front of the LinkedList"
   ]
  },
  {
   "attachments": {
    "52a886ec-218f-4e67-915a-48756f415efa.png": {
     "image/png": "[encoded data removed]"
    },
    "cc45a5dc-a059-42cc-8e26-efca24d9dced.png": {
     "image/png": "[encoded data removed]"
    }
   },
   "cell_type": "markdown",
   "metadata": {},
   "source": [
    "![image.png](attachment:52a886ec-218f-4e67-915a-48756f415efa.png)![image.png](attachment:cc45a5dc-a059-42cc-8e26-efca24d9dced.png)"
   ]
  },
  {
   "cell_type": "code",
   "execution_count": 25,
   "metadata": {},
   "outputs": [],
   "source": [
    "# Function to insert a new node at the beginning\n",
    "# Proper working of this function is given as an example in the next cells\n",
    "def push(self, new_data):\n",
    "    # Step 1 Allocate the Node\n",
    "    # Put in the new data\n",
    "    new_node = Node(new_data)\n",
    "    \n",
    "    # Step 3 Make next of new node as head\n",
    "    new_node.next = self.head\n",
    "    \n",
    "    # Step 4 Move the head to point to new Node\n",
    "    self.head = new_node"
   ]
  },
  {
   "cell_type": "code",
   "execution_count": null,
   "metadata": {},
   "outputs": [],
   "source": []
  },
  {
   "cell_type": "markdown",
   "metadata": {},
   "source": [
    "Time complexity for inserting a node at the front is O(1) which is constant. "
   ]
  }
 ],
 "metadata": {
  "kernelspec": {
   "display_name": "Python 3",
   "language": "python",
   "name": "python3"
  },
  "language_info": {
   "codemirror_mode": {
    "name": "ipython",
    "version": 3
   },
   "file_extension": ".py",
   "mimetype": "text/x-python",
   "name": "python",
   "nbconvert_exporter": "python",
   "pygments_lexer": "ipython3",
   "version": "3.8.8"
  }
 },
 "nbformat": 4,
 "nbformat_minor": 4
}