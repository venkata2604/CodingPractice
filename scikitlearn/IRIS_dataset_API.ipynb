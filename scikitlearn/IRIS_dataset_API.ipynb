{
 "cells": [
  {
   "cell_type": "code",
   "execution_count": 3,
   "id": "203b7a28-e6f6-4150-bc02-3f4c18742fd4",
   "metadata": {},
   "outputs": [],
   "source": [
    "from sklearn.ensemble import RandomForestClassifier\n",
    "from sklearn import svm\n",
    "\n",
    "from sklearn import datasets\n",
    "from sklearn.model_selection import train_test_split\n",
    "from sklearn.metrics import accuracy_score\n",
    "\n",
    "import pickle"
   ]
  },
  {
   "cell_type": "markdown",
   "id": "1cdda6b1-14bf-451f-b4ad-af964464024b",
   "metadata": {},
   "source": [
    "## Loading IRIS Dataset"
   ]
  },
  {
   "cell_type": "code",
   "execution_count": 5,
   "id": "558b8067-57d4-4df3-9fdd-f7377c3921a0",
   "metadata": {},
   "outputs": [],
   "source": [
    "iris = datasets.load_iris()\n",
    "x,y = iris.data, iris.target"
   ]
  },
  {
   "cell_type": "code",
   "execution_count": 12,
   "id": "5f1f3aa7-e77c-429d-bf72-02622d1e652f",
   "metadata": {},
   "outputs": [],
   "source": [
    "# iris"
   ]
  },
  {
   "cell_type": "code",
   "execution_count": 6,
   "id": "81014b82-99b4-4a50-a079-5d24c98af7f3",
   "metadata": {},
   "outputs": [],
   "source": [
    "#splitting the data\n",
    "x_train, x_test, y_train, y_test = train_test_split(x,y, random_state=1234, test_size=0.75)"
   ]
  },
  {
   "cell_type": "markdown",
   "id": "ebb681f8-099e-452d-a97d-c19735f1830c",
   "metadata": {},
   "source": [
    "# Build and tran using SVM "
   ]
  },
  {
   "cell_type": "code",
   "execution_count": 8,
   "id": "41d88092-2b97-4f7f-9c0d-c406a21e6ad0",
   "metadata": {},
   "outputs": [
    {
     "data": {
      "text/plain": [
       "SVC(gamma='auto')"
      ]
     },
     "execution_count": 8,
     "metadata": {},
     "output_type": "execute_result"
    }
   ],
   "source": [
    "\n",
    "model_svc = svm.SVC(gamma='auto')\n",
    "model_svc.fit(x_train, y_train)"
   ]
  },
  {
   "cell_type": "code",
   "execution_count": 9,
   "id": "8bf86886-f537-4d65-8b69-eecf0c39fe7e",
   "metadata": {},
   "outputs": [],
   "source": [
    "accuracy_svc = model_svc.score(x_test, y_test)"
   ]
  },
  {
   "cell_type": "code",
   "execution_count": 10,
   "id": "35639ff9-33fa-4ebb-aa66-f779e0824b4b",
   "metadata": {},
   "outputs": [
    {
     "name": "stdout",
     "output_type": "stream",
     "text": [
      "accuracy for SVM classifier is 0.9646017699115044\n"
     ]
    }
   ],
   "source": [
    "print(f\"accuracy for SVM classifier is {accuracy_svc}\")"
   ]
  },
  {
   "cell_type": "markdown",
   "id": "229c0695-8c52-450a-9919-6846607c8893",
   "metadata": {},
   "source": [
    "# Build and train using Random Forest"
   ]
  },
  {
   "cell_type": "code",
   "execution_count": 14,
   "id": "7d2bd5aa-8e7f-4926-b0e6-4f08a503ad6f",
   "metadata": {},
   "outputs": [
    {
     "name": "stdout",
     "output_type": "stream",
     "text": [
      "Accuracy for random forest classifier is 0.9292035398230089\n"
     ]
    }
   ],
   "source": [
    "model_rfc = RandomForestClassifier(n_estimators=25)\n",
    "model_rfc.fit(x_train, y_train)\n",
    "\n",
    "# finding accuracy of model\n",
    "accuracy_rfc = model_rfc.score(x_test, y_test)\n",
    "print(f\"Accuracy for random forest classifier is {accuracy_rfc}\")"
   ]
  },
  {
   "cell_type": "code",
   "execution_count": 15,
   "id": "234ddc6c-f622-4362-ac78-afa8b4b9d51e",
   "metadata": {},
   "outputs": [],
   "source": [
    "# saving the predicted models as binary\n",
    "# pickle can take python objects generated and save them in binary\n",
    "# to be loaded somewhere else\n",
    "\n",
    "with open('model_svc.pkl', 'wb') as model_svc_pickle:\n",
    "    pickle.dump(model_svc, model_svc_pickle)\n",
    "    \n",
    "with open('model_rfc.pkl', 'wb') as model_rfc_pickle:\n",
    "    pickle.dump(model_rfc, model_rfc_pickle)"
   ]
  },
  {
   "cell_type": "markdown",
   "id": "3dad7d87-eec9-42c7-8046-ce6bf4bcabda",
   "metadata": {},
   "source": [
    "# Making an API from the results\n",
    "With API we can deploy at edge or integrate it with another application"
   ]
  },
  {
   "cell_type": "markdown",
   "id": "960e72d9-7f92-442e-a6b0-54314c90eb73",
   "metadata": {},
   "source": [
    "Here we are using flask which is a web framework to expose the set of functions as APIs, here we can expose prediction logic for svm and RFC using get and post methods\n"
   ]
  }
 ],
 "metadata": {
  "kernelspec": {
   "display_name": "tf_gpu",
   "language": "python",
   "name": "tf_gpu"
  },
  "language_info": {
   "codemirror_mode": {
    "name": "ipython",
    "version": 3
   },
   "file_extension": ".py",
   "mimetype": "text/x-python",
   "name": "python",
   "nbconvert_exporter": "python",
   "pygments_lexer": "ipython3",
   "version": "3.9.7"
  }
 },
 "nbformat": 4,
 "nbformat_minor": 5
}
